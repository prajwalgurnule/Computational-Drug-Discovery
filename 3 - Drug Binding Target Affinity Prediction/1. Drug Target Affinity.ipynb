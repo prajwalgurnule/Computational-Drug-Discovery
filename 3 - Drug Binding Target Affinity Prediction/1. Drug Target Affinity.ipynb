{
 "cells": [
  {
   "cell_type": "markdown",
   "id": "fd867447-4c1f-424e-a4b6-52da9604bf66",
   "metadata": {},
   "source": [
    "# Leveraging Machine Learning To Predict Binding Affinity Of Drugs To Their Target Based Only On Their Structural Embeddings."
   ]
  },
  {
   "cell_type": "markdown",
   "id": "7308df98-eb4c-46d8-835f-aa47c515fffd",
   "metadata": {},
   "source": [
    "# 1. Data Filtering for important compounds\n",
    "In this notebook is on data filetering and cleaning. There are too many compounds and their interactions mentioned in the datafile and I feel its going to be a lot to work with for a simple project, so its better I trim the set of compounds to only have those interactions where its easy to find data on chembl."
   ]
  },
  {
   "cell_type": "code",
   "execution_count": 2,
   "id": "86bff948-74dc-4cfb-9b1b-995bcda9e7ff",
   "metadata": {},
   "outputs": [
    {
     "name": "stderr",
     "output_type": "stream",
     "text": [
      "C:\\Users\\Prajwal\\AppData\\Local\\Temp\\ipykernel_20532\\844135064.py:2: DtypeWarning: Columns (0,1,2,3,8,14,21,22,23,24,25,26,27,30,32) have mixed types. Specify dtype option on import or set low_memory=False.\n",
      "  df = pd.read_csv('data/DTC_data.csv', low_memory=True)\n"
     ]
    }
   ],
   "source": [
    "import pandas as pd\n",
    "df = pd.read_csv('data/DTC_data.csv', low_memory=True)"
   ]
  },
  {
   "cell_type": "code",
   "execution_count": 3,
   "id": "711f4d98-30f1-4eee-be63-752557594131",
   "metadata": {},
   "outputs": [
    {
     "data": {
      "text/plain": [
       "Index(['compound_id', 'standard_inchi_key', 'compound_name', 'synonym',\n",
       "       'target_id', 'target_pref_name', 'gene_names', 'wildtype_or_mutant',\n",
       "       'mutation_info', 'pubmed_id', 'standard_type', 'standard_relation',\n",
       "       'standard_value', 'standard_units', 'activity_comment',\n",
       "       'ep_action_mode', 'assay_format', 'assaytype', 'assay_subtype',\n",
       "       'inhibitor_type', 'detection_tech', 'assay_cell_line',\n",
       "       'compound_concentration_value', 'compound_concentration_value_unit',\n",
       "       'substrate_type', 'substrate_relation', 'substrate_value',\n",
       "       'substrate_units', 'assay_description', 'title', 'journal', 'doc_type',\n",
       "       'annotation_comments'],\n",
       "      dtype='object')"
      ]
     },
     "execution_count": 3,
     "metadata": {},
     "output_type": "execute_result"
    }
   ],
   "source": [
    "# check the columns\n",
    "df.columns"
   ]
  },
  {
   "cell_type": "code",
   "execution_count": 5,
   "id": "6c30467e-5420-453e-8073-8d4c162cd49a",
   "metadata": {},
   "outputs": [],
   "source": [
    "# Will subset the following columns for now as they repesent drug and target interaction\n",
    "df_set = df[['compound_id', 'standard_inchi_key', \n",
    "       'target_id', 'gene_names', 'wildtype_or_mutant', 'standard_type', 'standard_relation',\n",
    "       'standard_value', 'standard_units']]"
   ]
  },
  {
   "cell_type": "code",
   "execution_count": 6,
   "id": "2ffce34e-0e30-4c12-9373-1d5511c54bb7",
   "metadata": {},
   "outputs": [
    {
     "data": {
      "text/plain": [
       "compound_id            134222\n",
       "standard_inchi_key      91914\n",
       "target_id               14833\n",
       "gene_names            1220291\n",
       "wildtype_or_mutant    5805369\n",
       "standard_type             350\n",
       "standard_relation     2288713\n",
       "standard_value         378702\n",
       "standard_units         458412\n",
       "dtype: int64"
      ]
     },
     "execution_count": 6,
     "metadata": {},
     "output_type": "execute_result"
    }
   ],
   "source": [
    "df_set.isna().sum() \n",
    "# check the null values associated with these columns to decide which columns to drop"
   ]
  },
  {
   "cell_type": "code",
   "execution_count": 7,
   "id": "bedafd8b-29d6-4892-a8c5-28fcf36d28f2",
   "metadata": {},
   "outputs": [
    {
     "data": {
      "text/html": [
       "<div>\n",
       "<style scoped>\n",
       "    .dataframe tbody tr th:only-of-type {\n",
       "        vertical-align: middle;\n",
       "    }\n",
       "\n",
       "    .dataframe tbody tr th {\n",
       "        vertical-align: top;\n",
       "    }\n",
       "\n",
       "    .dataframe thead th {\n",
       "        text-align: right;\n",
       "    }\n",
       "</style>\n",
       "<table border=\"1\" class=\"dataframe\">\n",
       "  <thead>\n",
       "    <tr style=\"text-align: right;\">\n",
       "      <th></th>\n",
       "      <th>compound_id</th>\n",
       "      <th>standard_inchi_key</th>\n",
       "      <th>target_id</th>\n",
       "      <th>gene_names</th>\n",
       "      <th>wildtype_or_mutant</th>\n",
       "      <th>standard_type</th>\n",
       "      <th>standard_relation</th>\n",
       "      <th>standard_value</th>\n",
       "      <th>standard_units</th>\n",
       "    </tr>\n",
       "  </thead>\n",
       "  <tbody>\n",
       "    <tr>\n",
       "      <th>0</th>\n",
       "      <td>CHEMBL3545284</td>\n",
       "      <td>NaN</td>\n",
       "      <td>Q9Y4K4</td>\n",
       "      <td>MAP4K5</td>\n",
       "      <td>NaN</td>\n",
       "      <td>KDAPP</td>\n",
       "      <td>=</td>\n",
       "      <td>19155.14</td>\n",
       "      <td>NM</td>\n",
       "    </tr>\n",
       "    <tr>\n",
       "      <th>1</th>\n",
       "      <td>CHEMBL3545284</td>\n",
       "      <td>NaN</td>\n",
       "      <td>Q9Y478</td>\n",
       "      <td>PRKAB1</td>\n",
       "      <td>NaN</td>\n",
       "      <td>KDAPP</td>\n",
       "      <td>=</td>\n",
       "      <td>1565.72</td>\n",
       "      <td>NM</td>\n",
       "    </tr>\n",
       "    <tr>\n",
       "      <th>2</th>\n",
       "      <td>CHEMBL3545284</td>\n",
       "      <td>NaN</td>\n",
       "      <td>Q9Y2U5</td>\n",
       "      <td>MAP3K2</td>\n",
       "      <td>NaN</td>\n",
       "      <td>KDAPP</td>\n",
       "      <td>=</td>\n",
       "      <td>746.77</td>\n",
       "      <td>NM</td>\n",
       "    </tr>\n",
       "    <tr>\n",
       "      <th>3</th>\n",
       "      <td>CHEMBL3545284</td>\n",
       "      <td>NaN</td>\n",
       "      <td>Q9Y2K2</td>\n",
       "      <td>SIK3</td>\n",
       "      <td>NaN</td>\n",
       "      <td>KDAPP</td>\n",
       "      <td>=</td>\n",
       "      <td>13558.67</td>\n",
       "      <td>NM</td>\n",
       "    </tr>\n",
       "    <tr>\n",
       "      <th>4</th>\n",
       "      <td>CHEMBL3545284</td>\n",
       "      <td>NaN</td>\n",
       "      <td>Q9UL54</td>\n",
       "      <td>TAOK2</td>\n",
       "      <td>NaN</td>\n",
       "      <td>KDAPP</td>\n",
       "      <td>=</td>\n",
       "      <td>2220.98</td>\n",
       "      <td>NM</td>\n",
       "    </tr>\n",
       "  </tbody>\n",
       "</table>\n",
       "</div>"
      ],
      "text/plain": [
       "     compound_id standard_inchi_key target_id gene_names wildtype_or_mutant  \\\n",
       "0  CHEMBL3545284                NaN    Q9Y4K4     MAP4K5                NaN   \n",
       "1  CHEMBL3545284                NaN    Q9Y478     PRKAB1                NaN   \n",
       "2  CHEMBL3545284                NaN    Q9Y2U5     MAP3K2                NaN   \n",
       "3  CHEMBL3545284                NaN    Q9Y2K2       SIK3                NaN   \n",
       "4  CHEMBL3545284                NaN    Q9UL54      TAOK2                NaN   \n",
       "\n",
       "  standard_type standard_relation  standard_value standard_units  \n",
       "0         KDAPP                 =        19155.14             NM  \n",
       "1         KDAPP                 =         1565.72             NM  \n",
       "2         KDAPP                 =          746.77             NM  \n",
       "3         KDAPP                 =        13558.67             NM  \n",
       "4         KDAPP                 =         2220.98             NM  "
      ]
     },
     "execution_count": 7,
     "metadata": {},
     "output_type": "execute_result"
    }
   ],
   "source": [
    "df_set.head()"
   ]
  },
  {
   "cell_type": "markdown",
   "id": "79985799-202c-48bf-a21e-75de3630a171",
   "metadata": {},
   "source": [
    "# Selecting concentration values\n",
    "\n",
    "I will be looking for only those compound where they have the standard type reported as Kd values. I will also only use those compounds where the units are represented in either NM, MM or NMOL/L and make sure that the standard relation is '='. I also dont think I would like to work with mutated proteins so I will be filtering them off as well."
   ]
  },
  {
   "cell_type": "code",
   "execution_count": 8,
   "id": "ab76c222-e05f-425b-b962-c83a06c56f14",
   "metadata": {},
   "outputs": [],
   "source": [
    "# filetering based on boolean \n",
    "\n",
    "df_set = df_set[(df_set.standard_type == 'KD') | (df_set.standard_type == 'Kd')| \n",
    "                (df_set.standard_type == 'KI') | (df_set.standard_type == 'Ki')]\n",
    "\n",
    "df_set = df_set[(df_set.standard_units == 'NM')|(df_set.standard_units == 'MM') | \n",
    "                (df_set.standard_units == 'NMOL/L')]\n",
    "\n",
    "df_set = df_set[(df_set.standard_relation == '=')]\n"
   ]
  },
  {
   "cell_type": "code",
   "execution_count": 9,
   "id": "be8bbf23-b94b-4489-ba23-66fc4dd6dd7a",
   "metadata": {},
   "outputs": [],
   "source": [
    "df_set = df_set[(df_set.wildtype_or_mutant != 'mutated')]"
   ]
  },
  {
   "cell_type": "code",
   "execution_count": 10,
   "id": "79c2cbc4-150a-46cd-a9d6-f27de391e5f1",
   "metadata": {},
   "outputs": [],
   "source": [
    "# drop those rows where there are null values for all columns\n",
    "df_set.dropna(how='all', inplace=True)"
   ]
  },
  {
   "cell_type": "code",
   "execution_count": 11,
   "id": "3dfddfc2-ee02-4869-b978-07b877d51ae8",
   "metadata": {},
   "outputs": [],
   "source": [
    "df_set.drop_duplicates(inplace=True)"
   ]
  },
  {
   "cell_type": "code",
   "execution_count": 12,
   "id": "6b128d82-7ceb-4e49-9d29-74bb3e4246a7",
   "metadata": {},
   "outputs": [
    {
     "name": "stdout",
     "output_type": "stream",
     "text": [
      "<class 'pandas.core.frame.DataFrame'>\n",
      "Index: 443163 entries, 179 to 5980809\n",
      "Data columns (total 9 columns):\n",
      " #   Column              Non-Null Count   Dtype  \n",
      "---  ------              --------------   -----  \n",
      " 0   compound_id         414330 non-null  object \n",
      " 1   standard_inchi_key  432589 non-null  object \n",
      " 2   target_id           437324 non-null  object \n",
      " 3   gene_names          314300 non-null  object \n",
      " 4   wildtype_or_mutant  12229 non-null   object \n",
      " 5   standard_type       443163 non-null  object \n",
      " 6   standard_relation   443163 non-null  object \n",
      " 7   standard_value      443163 non-null  float64\n",
      " 8   standard_units      443163 non-null  object \n",
      "dtypes: float64(1), object(8)\n",
      "memory usage: 33.8+ MB\n"
     ]
    }
   ],
   "source": [
    "df_set.info()"
   ]
  },
  {
   "cell_type": "code",
   "execution_count": 13,
   "id": "61a35814-544b-48ba-b92a-84d1fd733d69",
   "metadata": {},
   "outputs": [
    {
     "data": {
      "text/plain": [
       "164662"
      ]
     },
     "execution_count": 13,
     "metadata": {},
     "output_type": "execute_result"
    }
   ],
   "source": [
    "# look at how many unique compounds are present\n",
    "df_set.compound_id.nunique()"
   ]
  },
  {
   "cell_type": "code",
   "execution_count": 14,
   "id": "2296fb92-588e-4a0b-a634-0e45162d80fc",
   "metadata": {},
   "outputs": [],
   "source": [
    "# drop those rows where there is null value associated with target, \n",
    "# no point keeping a compound if there is no target data associated with it\n",
    "df_set.dropna(axis=0, subset=['target_id', 'gene_names'], inplace=True)"
   ]
  },
  {
   "cell_type": "code",
   "execution_count": 15,
   "id": "11b770b9-4fb1-4905-a024-a909808cab57",
   "metadata": {},
   "outputs": [],
   "source": [
    "imp_comp = set(df_set.compound_id.values)"
   ]
  },
  {
   "cell_type": "code",
   "execution_count": 16,
   "id": "a2e3ae95-7373-4456-8b28-fa41f934b458",
   "metadata": {},
   "outputs": [
    {
     "data": {
      "text/plain": [
       "129482"
      ]
     },
     "execution_count": 16,
     "metadata": {},
     "output_type": "execute_result"
    }
   ],
   "source": [
    "len(imp_comp)"
   ]
  },
  {
   "cell_type": "code",
   "execution_count": 17,
   "id": "d1aeebec-45a9-4463-82c4-2e27e43bfe62",
   "metadata": {},
   "outputs": [],
   "source": [
    "''' Will save these compounds to extract chemical information for them in a different notebook.\n",
    "'''\n",
    "with open('cleaned_data/imp_comp.txt', 'w') as f:\n",
    "    for item in imp_comp:\n",
    "        f.write(\"%s\\n\" % item)"
   ]
  },
  {
   "cell_type": "markdown",
   "id": "4b91cd0d-f59a-415e-bae8-9dd4802f0551",
   "metadata": {},
   "source": [
    "concentration value               <- Filtering compounds based on their concentration type.\n",
    "    │   ├── target type           <- Removed mutant proteins from dataset.\n",
    "    │   └── droping values        <- Dropping duplicates, null and columns not used for analaysis"
   ]
  },
  {
   "cell_type": "markdown",
   "id": "e3575bb7-4557-4e35-b734-af35ff07c0b4",
   "metadata": {},
   "source": [
    "# 2. Smiles retrieval\n",
    "\n",
    "In this notebook we will retrieve the smiles information from chembl database. I will be using their pythoin web resource client to help retrieve this information, but it can be retrieved much easily by installing a SQL clients and making request through their database. Smiles inforamtion will be the structure feature we need to work with.\n",
    "\n",
    "First we load the data, we will remove all those compounds for which smiles inforamtion is not available. It may be available in other databases but for this project I would prefer to strictly work with chembl data."
   ]
  },
  {
   "cell_type": "code",
   "execution_count": 1,
   "id": "7878d02c-3029-463c-bfb6-4f1794a848c9",
   "metadata": {},
   "outputs": [],
   "source": [
    "import pandas as pd\n",
    "\n",
    "with open('cleaned_data/imp_comp.txt', 'r') as file:\n",
    "    lines = file.readlines()\n",
    "\n",
    "# Strip newline characters\n",
    "lines = [line.strip() for line in lines]\n",
    "\n",
    "# Convert to DataFrame\n",
    "comp = pd.DataFrame(lines, columns=['chem_id'])"
   ]
  },
  {
   "cell_type": "code",
   "execution_count": 2,
   "id": "063338f7-35a0-44af-8064-6c8d86cc5e6d",
   "metadata": {},
   "outputs": [
    {
     "data": {
      "text/html": [
       "<div>\n",
       "<style scoped>\n",
       "    .dataframe tbody tr th:only-of-type {\n",
       "        vertical-align: middle;\n",
       "    }\n",
       "\n",
       "    .dataframe tbody tr th {\n",
       "        vertical-align: top;\n",
       "    }\n",
       "\n",
       "    .dataframe thead th {\n",
       "        text-align: right;\n",
       "    }\n",
       "</style>\n",
       "<table border=\"1\" class=\"dataframe\">\n",
       "  <thead>\n",
       "    <tr style=\"text-align: right;\">\n",
       "      <th></th>\n",
       "      <th>chem_id</th>\n",
       "    </tr>\n",
       "  </thead>\n",
       "  <tbody>\n",
       "    <tr>\n",
       "      <th>0</th>\n",
       "      <td>CHEMBL1914462</td>\n",
       "    </tr>\n",
       "    <tr>\n",
       "      <th>1</th>\n",
       "      <td>CHEMBL2169974</td>\n",
       "    </tr>\n",
       "    <tr>\n",
       "      <th>2</th>\n",
       "      <td>CHEMBL434959</td>\n",
       "    </tr>\n",
       "    <tr>\n",
       "      <th>3</th>\n",
       "      <td>CHEMBL24352</td>\n",
       "    </tr>\n",
       "    <tr>\n",
       "      <th>4</th>\n",
       "      <td>CHEMBL461667</td>\n",
       "    </tr>\n",
       "  </tbody>\n",
       "</table>\n",
       "</div>"
      ],
      "text/plain": [
       "         chem_id\n",
       "0  CHEMBL1914462\n",
       "1  CHEMBL2169974\n",
       "2   CHEMBL434959\n",
       "3    CHEMBL24352\n",
       "4   CHEMBL461667"
      ]
     },
     "execution_count": 2,
     "metadata": {},
     "output_type": "execute_result"
    }
   ],
   "source": [
    "comp.head()"
   ]
  },
  {
   "cell_type": "markdown",
   "id": "73969111-920b-44e7-9d69-9f5f9dd708fb",
   "metadata": {},
   "source": [
    "## Load chembl client and download data"
   ]
  },
  {
   "cell_type": "code",
   "execution_count": 3,
   "id": "31d7690c-e8a7-4242-9e78-8db2f8d26b04",
   "metadata": {},
   "outputs": [],
   "source": [
    "import logging\n",
    "from operator import itemgetter\n",
    "from IPython.display import Image, display\n",
    "from chembl_webresource_client.new_client import new_client"
   ]
  },
  {
   "cell_type": "code",
   "execution_count": 4,
   "id": "957a9155-3038-4b44-a6b6-12cf33fbade3",
   "metadata": {},
   "outputs": [
    {
     "name": "stdout",
     "output_type": "stream",
     "text": [
      "['activity', 'activity_supplementary_data_by_activity', 'assay', 'assay_class', 'atc_class', 'binding_site', 'biotherapeutic', 'cell_line', 'chembl_id_lookup', 'chembl_release', 'compound_record', 'compound_structural_alert', 'description', 'document', 'document_similarity', 'drug', 'drug_indication', 'drug_warning', 'go_slim', 'image', 'mechanism', 'metabolism', 'molecule', 'molecule_form', 'official', 'organism', 'protein_classification', 'similarity', 'source', 'substructure', 'target', 'target_component', 'target_relation', 'tissue', 'xref_source']\n",
      "35\n",
      "2431025 molecules available in ChEMBL\n"
     ]
    }
   ],
   "source": [
    "'''\n",
    "We will look at all the available resources in the chembl database and how many molecules are present in the database\n",
    "'''\n",
    "\n",
    "\n",
    "available_resources = [resource for resource in dir(new_client) if not resource.startswith('_')]\n",
    "print(available_resources)\n",
    "print(len(available_resources))\n",
    "\n",
    "molecule = new_client.molecule\n",
    "molecule.set_format('json')\n",
    "print(\"%s molecules available in ChEMBL\" % len(molecule.all()))"
   ]
  },
  {
   "cell_type": "code",
   "execution_count": 5,
   "id": "010196ae-f1ed-47e2-84b2-97e60aa3a404",
   "metadata": {},
   "outputs": [],
   "source": [
    "# we can get information about a drug by using the compound id\n",
    "record = molecule.get('CHEMBL3904876') # testing using chem id of 1st compound"
   ]
  },
  {
   "cell_type": "code",
   "execution_count": 6,
   "id": "ce232dbc-03eb-4be8-8e57-ffcc4188490a",
   "metadata": {},
   "outputs": [
    {
     "data": {
      "text/plain": [
       "(dict,\n",
       " dict_keys(['atc_classifications', 'availability_type', 'biotherapeutic', 'black_box_warning', 'chebi_par_id', 'chemical_probe', 'chirality', 'cross_references', 'dosed_ingredient', 'first_approval', 'first_in_class', 'helm_notation', 'indication_class', 'inorganic_flag', 'max_phase', 'molecule_chembl_id', 'molecule_hierarchy', 'molecule_properties', 'molecule_structures', 'molecule_synonyms', 'molecule_type', 'natural_product', 'oral', 'orphan', 'parenteral', 'polymer_flag', 'pref_name', 'prodrug', 'structure_type', 'therapeutic_flag', 'topical', 'usan_stem', 'usan_stem_definition', 'usan_substem', 'usan_year', 'withdrawn_flag']))"
      ]
     },
     "execution_count": 6,
     "metadata": {},
     "output_type": "execute_result"
    }
   ],
   "source": [
    "# the record is a dictionary containing chemical information on the molecules\n",
    "type(record), record.keys()"
   ]
  },
  {
   "cell_type": "code",
   "execution_count": 7,
   "id": "c8dd25ef-4a6e-4e1b-9cb5-782cdf6a42ee",
   "metadata": {},
   "outputs": [
    {
     "data": {
      "text/plain": [
       "'CCc1c(N)ncnc1N1CCC(c2nc(-c3ccnc(OC)c3)cn2CCN2CCC2)CC1'"
      ]
     },
     "execution_count": 7,
     "metadata": {},
     "output_type": "execute_result"
    }
   ],
   "source": [
    "# the smiles information we need is in the following keys\n",
    "record['molecule_structures']['canonical_smiles']"
   ]
  },
  {
   "cell_type": "code",
   "execution_count": 8,
   "id": "e9b6e8b5-205f-4498-8bf3-6a9c0b23a2fe",
   "metadata": {},
   "outputs": [
    {
     "data": {
      "text/html": [
       "<div>\n",
       "<style scoped>\n",
       "    .dataframe tbody tr th:only-of-type {\n",
       "        vertical-align: middle;\n",
       "    }\n",
       "\n",
       "    .dataframe tbody tr th {\n",
       "        vertical-align: top;\n",
       "    }\n",
       "\n",
       "    .dataframe thead th {\n",
       "        text-align: right;\n",
       "    }\n",
       "</style>\n",
       "<table border=\"1\" class=\"dataframe\">\n",
       "  <thead>\n",
       "    <tr style=\"text-align: right;\">\n",
       "      <th></th>\n",
       "      <th>chem_id</th>\n",
       "      <th>Smiles</th>\n",
       "    </tr>\n",
       "  </thead>\n",
       "  <tbody>\n",
       "    <tr>\n",
       "      <th>0</th>\n",
       "      <td>CHEMBL1914462</td>\n",
       "      <td></td>\n",
       "    </tr>\n",
       "    <tr>\n",
       "      <th>1</th>\n",
       "      <td>CHEMBL2169974</td>\n",
       "      <td></td>\n",
       "    </tr>\n",
       "    <tr>\n",
       "      <th>2</th>\n",
       "      <td>CHEMBL434959</td>\n",
       "      <td></td>\n",
       "    </tr>\n",
       "    <tr>\n",
       "      <th>3</th>\n",
       "      <td>CHEMBL24352</td>\n",
       "      <td></td>\n",
       "    </tr>\n",
       "    <tr>\n",
       "      <th>4</th>\n",
       "      <td>CHEMBL461667</td>\n",
       "      <td></td>\n",
       "    </tr>\n",
       "  </tbody>\n",
       "</table>\n",
       "</div>"
      ],
      "text/plain": [
       "         chem_id Smiles\n",
       "0  CHEMBL1914462       \n",
       "1  CHEMBL2169974       \n",
       "2   CHEMBL434959       \n",
       "3    CHEMBL24352       \n",
       "4   CHEMBL461667       "
      ]
     },
     "execution_count": 8,
     "metadata": {},
     "output_type": "execute_result"
    }
   ],
   "source": [
    "# we will create a new column to hold smiles values\n",
    "comp['Smiles'] = ''\n",
    "comp.head()"
   ]
  },
  {
   "cell_type": "code",
   "execution_count": 9,
   "id": "89ac15f4-3a63-40cf-955d-e470992337e8",
   "metadata": {},
   "outputs": [
    {
     "data": {
      "text/plain": [
       "'\\nWe run the following code to get the smiles for our compound\\n'"
      ]
     },
     "execution_count": 9,
     "metadata": {},
     "output_type": "execute_result"
    }
   ],
   "source": [
    "'''\n",
    "We run the following code to get the smiles for our compound\n",
    "'''\n",
    "\n",
    "# import time\n",
    "\n",
    "# i=60000\n",
    "\n",
    "# for ind in range(60000, len(df_tr.compound_id.values)):\n",
    "#     comp = df_tr.loc[ind,'compound_id']\n",
    "#     try:  \n",
    "#         record = molecule.get(comp)\n",
    "#         smiles = record['molecule_structures']['canonical_smiles']    \n",
    "#         df_tr.loc[i, 'Smiles'] = smiles\n",
    "#     except:\n",
    "#         df_tr.loc[i, 'Smiles'] = 'None'\n",
    "#     i+=1\n",
    "#     if i%1000==0:\n",
    "#         %time\n",
    "#         time.sleep(5)\n",
    "#         %time\n",
    "#         print(f\"Done with {i} number of compounds\")"
   ]
  },
  {
   "cell_type": "markdown",
   "id": "91c07f96-7cdd-4a81-be53-0191383afd78",
   "metadata": {},
   "source": [
    "Once we collected all the smiles information we will create a new dataframe that has molecular fingerprint for the smiles. The fingerprint will help our model as teh fingerprints contain binary information regarding the molecules substructure. We will then merge them to create a single file which we will save later"
   ]
  },
  {
   "cell_type": "code",
   "execution_count": 11,
   "id": "f4e5fb7a-86f9-4688-9fa7-f3e218615700",
   "metadata": {},
   "outputs": [
    {
     "name": "stdout",
     "output_type": "stream",
     "text": [
      "  Bit_0 Bit_1 Bit_2 Bit_3 Bit_4 Bit_5 Bit_6 Bit_7 Bit_8 Bit_9  ... Bit_1015  \\\n",
      "0     0     0     0     0     0     0     0     0     0     0  ...        0   \n",
      "1     0     0     0     0     0     0     0     0     0     0  ...        0   \n",
      "2     0     0     0     0     0     0     0     0     0     0  ...        0   \n",
      "3     0     0     0     0     0     0     0     0     0     0  ...        0   \n",
      "\n",
      "  Bit_1016 Bit_1017 Bit_1018 Bit_1019 Bit_1020 Bit_1021 Bit_1022 Bit_1023  \\\n",
      "0        0        0        0        0        0        0        0        0   \n",
      "1        0        1        0        0        0        0        0        0   \n",
      "2        0        0        0        0        0        0        0        0   \n",
      "3        0        0        0        0        0        0        0        0   \n",
      "\n",
      "  Compound_SMILES  \n",
      "0             CCO  \n",
      "1         CC(=O)O  \n",
      "2       CCN(CC)CC  \n",
      "3     C1=CC=CC=C1  \n",
      "\n",
      "[4 rows x 1025 columns]\n"
     ]
    }
   ],
   "source": [
    "import pandas as pd\n",
    "from rdkit import Chem\n",
    "from rdkit.Chem import AllChem\n",
    "\n",
    "# Load your DataFrame from a CSV file (uncomment and set the correct path)\n",
    "# df_test_k_sep = pd.read_csv('path_to_your_file.csv')\n",
    "\n",
    "# For demonstration purposes, I'll create a sample DataFrame\n",
    "# Replace this with your actual DataFrame loaded from the CSV\n",
    "data = {\n",
    "    \"Compound_SMILES\": [\n",
    "        \"CCO\",       # Ethanol\n",
    "        \"CC(=O)O\",   # Acetic acid\n",
    "        \"CCN(CC)CC\", # Triethylamine\n",
    "        \"C1=CC=CC=C1\" # Benzene\n",
    "    ]\n",
    "}\n",
    "df_test_k_sep = pd.DataFrame(data)\n",
    "\n",
    "# Create a list holding ECFP4 values for each compound\n",
    "ECFP4 = [\n",
    "    list(AllChem.GetMorganFingerprintAsBitVect(Chem.MolFromSmiles(smiles), 2, nBits=1024).ToBitString())\n",
    "    for smiles in df_test_k_sep[\"Compound_SMILES\"]\n",
    "]\n",
    "\n",
    "# Turn the list into a DataFrame\n",
    "ecfp4_df = pd.DataFrame(ECFP4, columns=[f'Bit_{i}' for i in range(1024)])\n",
    "\n",
    "# Optionally, you can add the SMILES strings back to the DataFrame\n",
    "ecfp4_df['Compound_SMILES'] = df_test_k_sep[\"Compound_SMILES\"]\n",
    "\n",
    "# Display the resulting DataFrame\n",
    "print(ecfp4_df)\n"
   ]
  },
  {
   "cell_type": "code",
   "execution_count": 12,
   "id": "48ddd400-b15a-4d4f-9092-9519f9fc9f39",
   "metadata": {},
   "outputs": [],
   "source": [
    "comp.to_csv('cleaned_data/ECFP4.csv')"
   ]
  },
  {
   "cell_type": "markdown",
   "id": "4ec24ae1-9b8f-486a-87f5-58214c2ec0a5",
   "metadata": {},
   "source": [
    "├── smiles_retrieval          <- Obtained SMILES data on filtered set of compounds using chemblID"
   ]
  },
  {
   "cell_type": "markdown",
   "id": "cb10165c-6356-45f7-a5f2-b689a76935dc",
   "metadata": {},
   "source": [
    "## 3. Protein Sequence\n",
    "\n",
    "In this notebook we will collect the protein sequence of our targets. We will be collecting it based on their uniprot ID. I will be using a differnt method to get the protein sequences, by making request for each uniprot id."
   ]
  },
  {
   "cell_type": "code",
   "execution_count": 13,
   "id": "517be42e-7923-4e63-a4d4-0c9205e414e0",
   "metadata": {},
   "outputs": [],
   "source": [
    "# load the libraries\n",
    "import pandas as pd\n",
    "import requests"
   ]
  },
  {
   "cell_type": "code",
   "execution_count": 14,
   "id": "c833f002-3512-4cc5-b4e7-900c412ad5ee",
   "metadata": {},
   "outputs": [],
   "source": [
    "'''\n",
    "In the uniprot website I have noticed that if i simply put the unitprot id at the end of following url\n",
    "\"https://www.uniprot.org/uniprot/\" then it helps me get the sequence in a text format. I will use this method\n",
    "to retrieve the sequence and see what changes it needs to make it proper.\n",
    "'''\n",
    "\n",
    "text = requests.get('https://www.uniprot.org/uniprot/O00238.fasta')"
   ]
  },
  {
   "cell_type": "code",
   "execution_count": 15,
   "id": "90ad72cb-ab43-4aec-8480-6f5a5c44d863",
   "metadata": {},
   "outputs": [
    {
     "data": {
      "text/plain": [
       "'>sp|O00238|BMR1B_HUMAN Bone morphogenetic protein receptor type-1B OS=Homo sapiens OX=9606 GN=BMPR1B PE=1 SV=1\\nMLLRSAGKLNVGTKKEDGESTAPTPRPKVLRCKCHHHCPEDSVNNICSTDGYCFTMIEED\\nDSGLPVVTSGCLGLEGSDFQCRDTPIPHQRRSIECCTERNECNKDLHPTLPPLKNRDFVD\\nGPIHHRALLISVTVCSLLLVLIILFCYFRYKRQETRPRYSIGLEQDETYIPPGESLRDLI\\nEQSQSSGSGSGLPLLVQRTIAKQIQMVKQIGKGRYGEVWMGKWRGEKVAVKVFFTTEEAS\\nWFRETEIYQTVLMRHENILGFIAADIKGTGSWTQLYLITDYHENGSLYDYLKSTTLDAKS\\nMLKLAYSSVSGLCHLHTEIFSTQGKPAIAHRDLKSKNILVKKNGTCCIADLGLAVKFISD\\nTNEVDIPPNTRVGTKRYMPPEVLDESLNRNHFQSYIMADMYSFGLILWEVARRCVSGGIV\\nEEYQLPYHDLVPSDPSYEDMREIVCIKKLRPSFPNRWSSDECLRQMGKLMTECWAHNPAS\\nRLTALRVKKTLAKMSESQDIKL\\n'"
      ]
     },
     "execution_count": 15,
     "metadata": {},
     "output_type": "execute_result"
    }
   ],
   "source": [
    "seq = text.text\n",
    "seq # we look at the text"
   ]
  },
  {
   "cell_type": "markdown",
   "id": "f12cca58-687f-42d9-b103-4bdb5810e70d",
   "metadata": {},
   "source": [
    "This is quiet good enough. I just need to do minor changes to the text to acquire the information that I need. We can do in following steps."
   ]
  },
  {
   "cell_type": "code",
   "execution_count": 16,
   "id": "38ba856f-ae4f-49bb-8715-e1e81e69ab3e",
   "metadata": {},
   "outputs": [
    {
     "data": {
      "text/plain": [
       "110"
      ]
     },
     "execution_count": 16,
     "metadata": {},
     "output_type": "execute_result"
    }
   ],
   "source": [
    "# find the index for next line\n",
    "seq.find('\\n')"
   ]
  },
  {
   "cell_type": "code",
   "execution_count": 17,
   "id": "5cd1d753-2bfc-402b-b8b5-b88dcff3ae71",
   "metadata": {},
   "outputs": [],
   "source": [
    "protein = seq[111:] \n",
    "# save the information after the first line"
   ]
  },
  {
   "cell_type": "code",
   "execution_count": 18,
   "id": "b241269e-8b7a-424a-97f6-f6d659552e0d",
   "metadata": {},
   "outputs": [
    {
     "data": {
      "text/plain": [
       "'MLLRSAGKLNVGTKKEDGESTAPTPRPKVLRCKCHHHCPEDSVNNICSTDGYCFTMIEEDDSGLPVVTSGCLGLEGSDFQCRDTPIPHQRRSIECCTERNECNKDLHPTLPPLKNRDFVDGPIHHRALLISVTVCSLLLVLIILFCYFRYKRQETRPRYSIGLEQDETYIPPGESLRDLIEQSQSSGSGSGLPLLVQRTIAKQIQMVKQIGKGRYGEVWMGKWRGEKVAVKVFFTTEEASWFRETEIYQTVLMRHENILGFIAADIKGTGSWTQLYLITDYHENGSLYDYLKSTTLDAKSMLKLAYSSVSGLCHLHTEIFSTQGKPAIAHRDLKSKNILVKKNGTCCIADLGLAVKFISDTNEVDIPPNTRVGTKRYMPPEVLDESLNRNHFQSYIMADMYSFGLILWEVARRCVSGGIVEEYQLPYHDLVPSDPSYEDMREIVCIKKLRPSFPNRWSSDECLRQMGKLMTECWAHNPASRLTALRVKKTLAKMSESQDIKL'"
      ]
     },
     "execution_count": 18,
     "metadata": {},
     "output_type": "execute_result"
    }
   ],
   "source": [
    "protein.replace('\\n', '') # replace all the next line with empty string so it becomes a single continuous sequence"
   ]
  },
  {
   "cell_type": "code",
   "execution_count": 19,
   "id": "6344e42e-c767-4ee5-9e41-43c195f6134e",
   "metadata": {},
   "outputs": [],
   "source": [
    "# created a list of all the target uniprot ID's we will get the information for all of them\n",
    "\n",
    "targets = ['P06213', 'P78368', 'Q9H2K8', 'P49336', 'Q6DT37', 'P09619', 'Q9Y463', 'P04626', \n",
    "           'P11802', 'P49674', 'Q05397', 'Q07912', 'Q13873', 'P45985', 'Q96D53', 'P42345', \n",
    "           'Q13233', 'P27037', 'P43405', 'O15075', 'P49759', 'P53355', 'O94804', 'P19525', \n",
    "           'P53671', 'Q9NRP7', 'P57078', 'Q92630', 'Q13237', 'P45984', 'Q02779', 'P52564', \n",
    "           'O60674', 'P07332', 'P33981', 'P04629', 'P30291', 'Q9UK32', 'Q15835', 'P53350', \n",
    "           'Q96RR4', 'Q8IVW4', 'P80192', 'Q9Y2U5', 'O15530', 'O15146', 'Q9BYP7', 'Q13163', \n",
    "           'P68400', 'P14616', 'P07949', 'O94768', 'Q12851', 'Q9UHD2', 'Q13470', 'P35916', \n",
    "           'P36888', 'O75676', 'Q16832', 'P37173', 'Q13188', 'P48729', 'Q8NE63', 'Q16539', \n",
    "           'P35968', 'Q8NI60', 'P19784', 'Q8WTQ7', 'Q15349', 'P22455', 'Q02763', 'Q13705', \n",
    "           'P42338', 'P00519', 'P29597', 'P27361', 'Q9BZL6', 'P0C1S8', 'P24723', 'O00444', \n",
    "           'Q08345', 'Q04759', 'P31751', 'P49840', 'P45983', 'Q9NYY3', 'O14965', 'Q92772', \n",
    "           'Q9UEE5', 'O75914', 'P06239', 'Q9BWU1', 'Q9Y243', 'O14578', 'P48736', 'P35590', \n",
    "           'O60331', 'P51813', 'O43683', 'Q9NSY1', 'Q96GD4', 'O14730', 'O15197', 'Q92918', \n",
    "           'P53779', 'Q8TF76', 'P29376', 'Q8IVH8', 'P30530', 'O76039', 'Q9H1R3', 'P15735', \n",
    "           'Q8TD08', 'P07333', 'Q00526', 'Q86Z02', 'Q9NYL2', 'Q6XUX3', 'P17612', 'Q9H2G2', \n",
    "           'P16591', 'Q8WXR4', 'P10721', 'Q86YV6', 'P51617', 'P49841', 'P31749', 'Q86Y07', \n",
    "           'Q99759', 'P29323', 'Q8TBX8', 'P50613', 'Q9C098', 'Q8IY84', 'P48730', 'Q9H4B4', \n",
    "           'P12931', 'Q05655', 'Q9UBF8', 'Q15418', 'O00141', 'O96017', 'Q96PY6', 'O94806', \n",
    "           'P49760', 'Q9UIK4', 'P51956', 'Q9UM73', 'Q9Y616', 'Q9Y4K4', 'O14757', 'P22607', \n",
    "           'P46734', 'Q9H422', 'P16234', 'Q8N5S9', 'O75716', 'P42685', 'Q09013', 'Q13043', \n",
    "           'Q9UBE8', 'Q6PHR2', 'P25098', 'Q96Q40', 'O14936', 'P42684', 'Q9BVS4', 'Q13627', \n",
    "           'O00506', 'Q6P3R8', 'Q9P2K8', 'P51817', 'P51451', 'O43293', 'Q9BRS2', 'Q14289', \n",
    "           'O14920', 'P21860', 'Q7L7X3', 'Q9Y6E0', 'Q9HAZ1', 'Q56UN5', 'Q02156', 'Q16288', \n",
    "           'Q15759', 'Q12866', 'Q9H2X6', 'P54753', 'P08922', 'P52333', 'Q9UQB9', 'P08581', \n",
    "           'Q9Y6R4', 'Q16584', 'P21802', 'Q15746', 'P49137', 'Q8N568', 'Q9H093', 'P23458', \n",
    "           'Q9P286', 'O14976', 'P17948', 'Q16620']"
   ]
  },
  {
   "cell_type": "code",
   "execution_count": 20,
   "id": "96317b71-e1b7-4756-aa0d-35a0114445e1",
   "metadata": {},
   "outputs": [],
   "source": [
    "# We will store all the sequence information in a new dataframe\n",
    "\n",
    "proteinset = pd.DataFrame({'target_id': [],\n",
    "                           'Sequence':[]\n",
    "                          })"
   ]
  },
  {
   "cell_type": "code",
   "execution_count": 21,
   "id": "9ba0dda9-8e74-4773-a42a-4b28fdc4ca79",
   "metadata": {},
   "outputs": [],
   "source": [
    "# run this cell to get all the sequences\n",
    "\n",
    "for target in targets:\n",
    "    sequence = requests.get(f'https://www.uniprot.org/uniprot/{target}.fasta').text\n",
    "    ind = sequence.find('\\n')\n",
    "    raw = sequence[ind+1:]\n",
    "    protein = raw.replace('\\n', '')\n",
    "    row = proteinset.shape[0]\n",
    "    proteinset.loc[row] = [target, protein]"
   ]
  },
  {
   "cell_type": "code",
   "execution_count": 22,
   "id": "a1c45e99-88d0-4a4f-9f66-e6fa81a3f681",
   "metadata": {},
   "outputs": [
    {
     "data": {
      "text/html": [
       "<div>\n",
       "<style scoped>\n",
       "    .dataframe tbody tr th:only-of-type {\n",
       "        vertical-align: middle;\n",
       "    }\n",
       "\n",
       "    .dataframe tbody tr th {\n",
       "        vertical-align: top;\n",
       "    }\n",
       "\n",
       "    .dataframe thead th {\n",
       "        text-align: right;\n",
       "    }\n",
       "</style>\n",
       "<table border=\"1\" class=\"dataframe\">\n",
       "  <thead>\n",
       "    <tr style=\"text-align: right;\">\n",
       "      <th></th>\n",
       "      <th>target_id</th>\n",
       "      <th>Sequence</th>\n",
       "    </tr>\n",
       "  </thead>\n",
       "  <tbody>\n",
       "    <tr>\n",
       "      <th>0</th>\n",
       "      <td>P06213</td>\n",
       "      <td>MATGGRRGAAAAPLLVAVAALLLGAAGHLYPGEVCPGMDIRNNLTR...</td>\n",
       "    </tr>\n",
       "    <tr>\n",
       "      <th>1</th>\n",
       "      <td>P78368</td>\n",
       "      <td>MDFDKKGGKGETEEGRRMSKAGGGRSSHGIRSSGTSSGVLMVGPNF...</td>\n",
       "    </tr>\n",
       "    <tr>\n",
       "      <th>2</th>\n",
       "      <td>Q9H2K8</td>\n",
       "      <td>MRKGVLKDPEIADLFYKDDPEELFIGLHEIGHGSFGAVYFATNAHT...</td>\n",
       "    </tr>\n",
       "    <tr>\n",
       "      <th>3</th>\n",
       "      <td>P49336</td>\n",
       "      <td>MDYDFKVKLSSERERVEDLFEYEGCKVGRGTYGHVYKAKRKDGKDD...</td>\n",
       "    </tr>\n",
       "    <tr>\n",
       "      <th>4</th>\n",
       "      <td>Q6DT37</td>\n",
       "      <td>MERRLRALEQLARGEAGGCPGLDGLLDLLLALHHELSSGPLRRERS...</td>\n",
       "    </tr>\n",
       "  </tbody>\n",
       "</table>\n",
       "</div>"
      ],
      "text/plain": [
       "  target_id                                           Sequence\n",
       "0    P06213  MATGGRRGAAAAPLLVAVAALLLGAAGHLYPGEVCPGMDIRNNLTR...\n",
       "1    P78368  MDFDKKGGKGETEEGRRMSKAGGGRSSHGIRSSGTSSGVLMVGPNF...\n",
       "2    Q9H2K8  MRKGVLKDPEIADLFYKDDPEELFIGLHEIGHGSFGAVYFATNAHT...\n",
       "3    P49336  MDYDFKVKLSSERERVEDLFEYEGCKVGRGTYGHVYKAKRKDGKDD...\n",
       "4    Q6DT37  MERRLRALEQLARGEAGGCPGLDGLLDLLLALHHELSSGPLRRERS..."
      ]
     },
     "execution_count": 22,
     "metadata": {},
     "output_type": "execute_result"
    }
   ],
   "source": [
    "proteinset.head()"
   ]
  },
  {
   "cell_type": "code",
   "execution_count": 23,
   "id": "5dd956f9-6bdb-4526-8a33-60c09d7557ba",
   "metadata": {},
   "outputs": [],
   "source": [
    "# we save this\n",
    "proteinset.to_csv('cleaned_data/seq_data.csv')"
   ]
  },
  {
   "cell_type": "markdown",
   "id": "5c01ecab-f108-45c4-afe9-8810e3cc9cef",
   "metadata": {},
   "source": [
    "## Featurising the sequence\n",
    "\n",
    "Our model cannot work with just the sequence information and so we need to find a way for represent them in anumerical format. I am gonna use a simple method of just turning all the sequences into a number representation for all the amino acid letters."
   ]
  },
  {
   "cell_type": "code",
   "execution_count": 24,
   "id": "460c9fb2-4464-42d8-870f-bf43258a14bc",
   "metadata": {},
   "outputs": [],
   "source": [
    "# write a function that converts sequence in to numbers for each amino acid\n",
    "\n",
    "seq_rdic = ['A','I','L','V','F','W','Y','N','C','Q','M','S','T','D','E','R','H','K','G','P','O','U','X','B','Z']\n",
    "seq_dic = {w: i+1 for i,w in enumerate(seq_rdic)}\n",
    "\n",
    "def encodeSeq(seq, seq_dic=seq_dic):\n",
    "    if pd.isnull(seq):\n",
    "        return [0]\n",
    "    else:\n",
    "        return [seq_dic[aa] for aa in seq]\n"
   ]
  },
  {
   "cell_type": "code",
   "execution_count": 25,
   "id": "d084fef0-08ec-4dcc-8135-686b792540a4",
   "metadata": {},
   "outputs": [
    {
     "name": "stdout",
     "output_type": "stream",
     "text": [
      "[11, 14, 5, 14, 18, 18, 19, 19, 18, 19, 15, 13, 15, 15, 19, 16, 16, 11, 12, 18, 1, 19, 19, 19, 16, 12, 12, 17, 19, 2, 16, 12, 12, 19, 13, 12, 12, 19, 4, 3, 11, 4, 19, 20, 8, 5, 16, 4, 19, 18, 18, 2, 19, 9, 19, 8, 5, 19, 15, 3, 16, 3, 19, 18, 8, 3, 7, 13, 8, 15, 7, 4, 1, 2, 18, 3, 15, 20, 2, 18, 12, 16, 1, 20, 10, 3, 17, 3, 15, 7, 16, 5, 7, 18, 10, 3, 12, 1, 13, 15, 19, 4, 20, 10, 4, 7, 7, 5, 19, 20, 9, 19, 18, 7, 8, 1, 11, 4, 3, 15, 3, 3, 19, 20, 12, 3, 15, 14, 3, 5, 14, 3, 9, 14, 16, 13, 5, 13, 3, 18, 13, 4, 3, 11, 2, 1, 2, 10, 3, 2, 13, 16, 11, 15, 7, 4, 17, 13, 18, 12, 3, 2, 7, 16, 14, 4, 18, 20, 15, 8, 5, 3, 4, 19, 16, 20, 19, 13, 18, 16, 10, 17, 1, 2, 17, 2, 2, 14, 5, 19, 3, 1, 18, 15, 7, 2, 14, 20, 15, 13, 18, 18, 17, 2, 20, 7, 16, 15, 17, 18, 12, 3, 13, 19, 13, 1, 16, 7, 11, 12, 2, 8, 13, 17, 3, 19, 18, 15, 10, 12, 16, 16, 14, 14, 3, 15, 1, 3, 19, 17, 11, 5, 11, 7, 5, 3, 16, 19, 12, 3, 20, 6, 10, 19, 3, 18, 1, 14, 13, 3, 18, 15, 16, 7, 10, 18, 2, 19, 14, 13, 18, 16, 1, 13, 20, 2, 15, 4, 3, 9, 15, 8, 5, 20, 15, 15, 11, 1, 13, 7, 3, 16, 7, 4, 16, 16, 3, 14, 5, 5, 15, 18, 20, 14, 7, 14, 7, 3, 16, 18, 3, 5, 13, 14, 3, 5, 14, 16, 12, 19, 5, 4, 5, 14, 7, 15, 7, 14, 6, 1, 19, 18, 20, 3, 20, 13, 20, 2, 19, 13, 4, 17, 13, 14, 3, 20, 12, 10, 20, 10, 3, 16, 14, 18, 13, 10, 20, 17, 12, 18, 8, 10, 1, 3, 8, 12, 13, 8, 19, 15, 3, 8, 1, 14, 14, 20, 13, 1, 19, 17, 12, 8, 1, 20, 2, 13, 1, 20, 1, 15, 4, 15, 4, 1, 14, 15, 13, 18, 9, 9, 9, 5, 5, 18, 16, 16, 18, 16, 18, 12, 3, 10, 16, 17, 18]\n"
     ]
    }
   ],
   "source": [
    "seq = proteinset.Sequence[1] \n",
    "\n",
    "# test on the first sequence\n",
    "encode = encodeSeq(seq, seq_dic)\n",
    "print(encode)"
   ]
  },
  {
   "cell_type": "markdown",
   "id": "4570e01b-80c5-49d2-b4e5-6a3e96dfde86",
   "metadata": {},
   "source": [
    "It works so now we make a new column called encoded and store all the numerical sequence values in them"
   ]
  },
  {
   "cell_type": "code",
   "execution_count": 26,
   "id": "1ccb71a7-f2ad-4dac-9aec-c37af1e3a5a5",
   "metadata": {},
   "outputs": [],
   "source": [
    "proteinset['encoded'] = proteinset['Sequence'].map(lambda x: encodeSeq(x, seq_dic))"
   ]
  },
  {
   "cell_type": "code",
   "execution_count": 27,
   "id": "13b9af51-34c8-4b54-9d11-c25f5b5ba32e",
   "metadata": {},
   "outputs": [
    {
     "data": {
      "text/html": [
       "<div>\n",
       "<style scoped>\n",
       "    .dataframe tbody tr th:only-of-type {\n",
       "        vertical-align: middle;\n",
       "    }\n",
       "\n",
       "    .dataframe tbody tr th {\n",
       "        vertical-align: top;\n",
       "    }\n",
       "\n",
       "    .dataframe thead th {\n",
       "        text-align: right;\n",
       "    }\n",
       "</style>\n",
       "<table border=\"1\" class=\"dataframe\">\n",
       "  <thead>\n",
       "    <tr style=\"text-align: right;\">\n",
       "      <th></th>\n",
       "      <th>target_id</th>\n",
       "      <th>Sequence</th>\n",
       "      <th>encoded</th>\n",
       "    </tr>\n",
       "  </thead>\n",
       "  <tbody>\n",
       "    <tr>\n",
       "      <th>0</th>\n",
       "      <td>P06213</td>\n",
       "      <td>MATGGRRGAAAAPLLVAVAALLLGAAGHLYPGEVCPGMDIRNNLTR...</td>\n",
       "      <td>[11, 1, 13, 19, 19, 16, 16, 19, 1, 1, 1, 1, 20...</td>\n",
       "    </tr>\n",
       "    <tr>\n",
       "      <th>1</th>\n",
       "      <td>P78368</td>\n",
       "      <td>MDFDKKGGKGETEEGRRMSKAGGGRSSHGIRSSGTSSGVLMVGPNF...</td>\n",
       "      <td>[11, 14, 5, 14, 18, 18, 19, 19, 18, 19, 15, 13...</td>\n",
       "    </tr>\n",
       "    <tr>\n",
       "      <th>2</th>\n",
       "      <td>Q9H2K8</td>\n",
       "      <td>MRKGVLKDPEIADLFYKDDPEELFIGLHEIGHGSFGAVYFATNAHT...</td>\n",
       "      <td>[11, 16, 18, 19, 4, 3, 18, 14, 20, 15, 2, 1, 1...</td>\n",
       "    </tr>\n",
       "    <tr>\n",
       "      <th>3</th>\n",
       "      <td>P49336</td>\n",
       "      <td>MDYDFKVKLSSERERVEDLFEYEGCKVGRGTYGHVYKAKRKDGKDD...</td>\n",
       "      <td>[11, 14, 7, 14, 5, 18, 4, 18, 3, 12, 12, 15, 1...</td>\n",
       "    </tr>\n",
       "    <tr>\n",
       "      <th>4</th>\n",
       "      <td>Q6DT37</td>\n",
       "      <td>MERRLRALEQLARGEAGGCPGLDGLLDLLLALHHELSSGPLRRERS...</td>\n",
       "      <td>[11, 15, 16, 16, 3, 16, 1, 3, 15, 10, 3, 1, 16...</td>\n",
       "    </tr>\n",
       "  </tbody>\n",
       "</table>\n",
       "</div>"
      ],
      "text/plain": [
       "  target_id                                           Sequence  \\\n",
       "0    P06213  MATGGRRGAAAAPLLVAVAALLLGAAGHLYPGEVCPGMDIRNNLTR...   \n",
       "1    P78368  MDFDKKGGKGETEEGRRMSKAGGGRSSHGIRSSGTSSGVLMVGPNF...   \n",
       "2    Q9H2K8  MRKGVLKDPEIADLFYKDDPEELFIGLHEIGHGSFGAVYFATNAHT...   \n",
       "3    P49336  MDYDFKVKLSSERERVEDLFEYEGCKVGRGTYGHVYKAKRKDGKDD...   \n",
       "4    Q6DT37  MERRLRALEQLARGEAGGCPGLDGLLDLLLALHHELSSGPLRRERS...   \n",
       "\n",
       "                                             encoded  \n",
       "0  [11, 1, 13, 19, 19, 16, 16, 19, 1, 1, 1, 1, 20...  \n",
       "1  [11, 14, 5, 14, 18, 18, 19, 19, 18, 19, 15, 13...  \n",
       "2  [11, 16, 18, 19, 4, 3, 18, 14, 20, 15, 2, 1, 1...  \n",
       "3  [11, 14, 7, 14, 5, 18, 4, 18, 3, 12, 12, 15, 1...  \n",
       "4  [11, 15, 16, 16, 3, 16, 1, 3, 15, 10, 3, 1, 16...  "
      ]
     },
     "execution_count": 27,
     "metadata": {},
     "output_type": "execute_result"
    }
   ],
   "source": [
    "proteinset.head()"
   ]
  },
  {
   "cell_type": "markdown",
   "id": "23c99cd9-d25a-4f45-a1f1-de61edbb8308",
   "metadata": {},
   "source": [
    "The problem is that some sequences are long and some are very small. We need each of them to be of the same length. So I will define a function called padding which will basically turn the list into the same length of 3000 by adding a 0 at the end. I am choosing 3000 because the maximum length is 2549."
   ]
  },
  {
   "cell_type": "code",
   "execution_count": 28,
   "id": "14bd0785-9d82-4321-b91c-9fb519dfd5ca",
   "metadata": {},
   "outputs": [
    {
     "name": "stdout",
     "output_type": "stream",
     "text": [
      "2549\n"
     ]
    }
   ],
   "source": [
    "seqlen = []\n",
    "for seq in proteinset.encoded.values:\n",
    "    seqlen.append(len(seq))\n",
    "print(max(seqlen))"
   ]
  },
  {
   "cell_type": "code",
   "execution_count": 29,
   "id": "e22ead63-621a-4fdf-9c68-800b0cf63ca7",
   "metadata": {},
   "outputs": [],
   "source": [
    "def padding(seq):\n",
    "    for i in range(3000):\n",
    "        if i >= len(seq):\n",
    "            seq.append(0)"
   ]
  },
  {
   "cell_type": "code",
   "execution_count": 30,
   "id": "990f96c4-a049-468f-9e99-957de339ea36",
   "metadata": {},
   "outputs": [],
   "source": [
    "proteinset['padded'] = proteinset['encoded'].map(lambda x: padding(x))"
   ]
  },
  {
   "cell_type": "code",
   "execution_count": 31,
   "id": "63445c95-1e18-49b7-8b7b-054737631677",
   "metadata": {},
   "outputs": [
    {
     "name": "stdout",
     "output_type": "stream",
     "text": [
      "3000\n"
     ]
    }
   ],
   "source": [
    "seqlen = []\n",
    "for seq in proteinset.encoded.values:\n",
    "    seqlen.append(len(seq))\n",
    "print(max(seqlen))"
   ]
  },
  {
   "cell_type": "markdown",
   "id": "16a6614e-d59a-4211-b067-2b893367197b",
   "metadata": {},
   "source": [
    "We need to create a new dataframe that has the target ID and the encoded seqences as separate columns, we do that in the following way"
   ]
  },
  {
   "cell_type": "code",
   "execution_count": 32,
   "id": "4612addb-a20d-4df5-bd9c-f4d51164c31c",
   "metadata": {},
   "outputs": [],
   "source": [
    "protdata = proteinset[['target_id']]"
   ]
  },
  {
   "cell_type": "code",
   "execution_count": 33,
   "id": "40ff092d-c7d8-426d-a449-a10b959f1fa0",
   "metadata": {},
   "outputs": [],
   "source": [
    "encodes = proteinset['encoded'].apply(pd.Series)"
   ]
  },
  {
   "cell_type": "code",
   "execution_count": 34,
   "id": "d681e47c-01ca-4218-9fdc-abf20a99e428",
   "metadata": {},
   "outputs": [],
   "source": [
    "encodes = encodes.rename(columns = lambda x : 'encode_' + str(x))"
   ]
  },
  {
   "cell_type": "code",
   "execution_count": 35,
   "id": "5aa1ce1c-e94c-497d-afb1-0c2ea1d00508",
   "metadata": {},
   "outputs": [],
   "source": [
    "protdata = pd.concat([protdata, encodes], axis=1)"
   ]
  },
  {
   "cell_type": "code",
   "execution_count": 36,
   "id": "01b74f8b-1378-4dc8-b2ff-5593cbe404fb",
   "metadata": {},
   "outputs": [
    {
     "data": {
      "text/html": [
       "<div>\n",
       "<style scoped>\n",
       "    .dataframe tbody tr th:only-of-type {\n",
       "        vertical-align: middle;\n",
       "    }\n",
       "\n",
       "    .dataframe tbody tr th {\n",
       "        vertical-align: top;\n",
       "    }\n",
       "\n",
       "    .dataframe thead th {\n",
       "        text-align: right;\n",
       "    }\n",
       "</style>\n",
       "<table border=\"1\" class=\"dataframe\">\n",
       "  <thead>\n",
       "    <tr style=\"text-align: right;\">\n",
       "      <th></th>\n",
       "      <th>target_id</th>\n",
       "      <th>encode_0</th>\n",
       "      <th>encode_1</th>\n",
       "      <th>encode_2</th>\n",
       "      <th>encode_3</th>\n",
       "      <th>encode_4</th>\n",
       "      <th>encode_5</th>\n",
       "      <th>encode_6</th>\n",
       "      <th>encode_7</th>\n",
       "      <th>encode_8</th>\n",
       "      <th>...</th>\n",
       "      <th>encode_2990</th>\n",
       "      <th>encode_2991</th>\n",
       "      <th>encode_2992</th>\n",
       "      <th>encode_2993</th>\n",
       "      <th>encode_2994</th>\n",
       "      <th>encode_2995</th>\n",
       "      <th>encode_2996</th>\n",
       "      <th>encode_2997</th>\n",
       "      <th>encode_2998</th>\n",
       "      <th>encode_2999</th>\n",
       "    </tr>\n",
       "  </thead>\n",
       "  <tbody>\n",
       "    <tr>\n",
       "      <th>0</th>\n",
       "      <td>P06213</td>\n",
       "      <td>11</td>\n",
       "      <td>1</td>\n",
       "      <td>13</td>\n",
       "      <td>19</td>\n",
       "      <td>19</td>\n",
       "      <td>16</td>\n",
       "      <td>16</td>\n",
       "      <td>19</td>\n",
       "      <td>1</td>\n",
       "      <td>...</td>\n",
       "      <td>0</td>\n",
       "      <td>0</td>\n",
       "      <td>0</td>\n",
       "      <td>0</td>\n",
       "      <td>0</td>\n",
       "      <td>0</td>\n",
       "      <td>0</td>\n",
       "      <td>0</td>\n",
       "      <td>0</td>\n",
       "      <td>0</td>\n",
       "    </tr>\n",
       "    <tr>\n",
       "      <th>1</th>\n",
       "      <td>P78368</td>\n",
       "      <td>11</td>\n",
       "      <td>14</td>\n",
       "      <td>5</td>\n",
       "      <td>14</td>\n",
       "      <td>18</td>\n",
       "      <td>18</td>\n",
       "      <td>19</td>\n",
       "      <td>19</td>\n",
       "      <td>18</td>\n",
       "      <td>...</td>\n",
       "      <td>0</td>\n",
       "      <td>0</td>\n",
       "      <td>0</td>\n",
       "      <td>0</td>\n",
       "      <td>0</td>\n",
       "      <td>0</td>\n",
       "      <td>0</td>\n",
       "      <td>0</td>\n",
       "      <td>0</td>\n",
       "      <td>0</td>\n",
       "    </tr>\n",
       "    <tr>\n",
       "      <th>2</th>\n",
       "      <td>Q9H2K8</td>\n",
       "      <td>11</td>\n",
       "      <td>16</td>\n",
       "      <td>18</td>\n",
       "      <td>19</td>\n",
       "      <td>4</td>\n",
       "      <td>3</td>\n",
       "      <td>18</td>\n",
       "      <td>14</td>\n",
       "      <td>20</td>\n",
       "      <td>...</td>\n",
       "      <td>0</td>\n",
       "      <td>0</td>\n",
       "      <td>0</td>\n",
       "      <td>0</td>\n",
       "      <td>0</td>\n",
       "      <td>0</td>\n",
       "      <td>0</td>\n",
       "      <td>0</td>\n",
       "      <td>0</td>\n",
       "      <td>0</td>\n",
       "    </tr>\n",
       "    <tr>\n",
       "      <th>3</th>\n",
       "      <td>P49336</td>\n",
       "      <td>11</td>\n",
       "      <td>14</td>\n",
       "      <td>7</td>\n",
       "      <td>14</td>\n",
       "      <td>5</td>\n",
       "      <td>18</td>\n",
       "      <td>4</td>\n",
       "      <td>18</td>\n",
       "      <td>3</td>\n",
       "      <td>...</td>\n",
       "      <td>0</td>\n",
       "      <td>0</td>\n",
       "      <td>0</td>\n",
       "      <td>0</td>\n",
       "      <td>0</td>\n",
       "      <td>0</td>\n",
       "      <td>0</td>\n",
       "      <td>0</td>\n",
       "      <td>0</td>\n",
       "      <td>0</td>\n",
       "    </tr>\n",
       "    <tr>\n",
       "      <th>4</th>\n",
       "      <td>Q6DT37</td>\n",
       "      <td>11</td>\n",
       "      <td>15</td>\n",
       "      <td>16</td>\n",
       "      <td>16</td>\n",
       "      <td>3</td>\n",
       "      <td>16</td>\n",
       "      <td>1</td>\n",
       "      <td>3</td>\n",
       "      <td>15</td>\n",
       "      <td>...</td>\n",
       "      <td>0</td>\n",
       "      <td>0</td>\n",
       "      <td>0</td>\n",
       "      <td>0</td>\n",
       "      <td>0</td>\n",
       "      <td>0</td>\n",
       "      <td>0</td>\n",
       "      <td>0</td>\n",
       "      <td>0</td>\n",
       "      <td>0</td>\n",
       "    </tr>\n",
       "  </tbody>\n",
       "</table>\n",
       "<p>5 rows × 3001 columns</p>\n",
       "</div>"
      ],
      "text/plain": [
       "  target_id  encode_0  encode_1  encode_2  encode_3  encode_4  encode_5  \\\n",
       "0    P06213        11         1        13        19        19        16   \n",
       "1    P78368        11        14         5        14        18        18   \n",
       "2    Q9H2K8        11        16        18        19         4         3   \n",
       "3    P49336        11        14         7        14         5        18   \n",
       "4    Q6DT37        11        15        16        16         3        16   \n",
       "\n",
       "   encode_6  encode_7  encode_8  ...  encode_2990  encode_2991  encode_2992  \\\n",
       "0        16        19         1  ...            0            0            0   \n",
       "1        19        19        18  ...            0            0            0   \n",
       "2        18        14        20  ...            0            0            0   \n",
       "3         4        18         3  ...            0            0            0   \n",
       "4         1         3        15  ...            0            0            0   \n",
       "\n",
       "   encode_2993  encode_2994  encode_2995  encode_2996  encode_2997  \\\n",
       "0            0            0            0            0            0   \n",
       "1            0            0            0            0            0   \n",
       "2            0            0            0            0            0   \n",
       "3            0            0            0            0            0   \n",
       "4            0            0            0            0            0   \n",
       "\n",
       "   encode_2998  encode_2999  \n",
       "0            0            0  \n",
       "1            0            0  \n",
       "2            0            0  \n",
       "3            0            0  \n",
       "4            0            0  \n",
       "\n",
       "[5 rows x 3001 columns]"
      ]
     },
     "execution_count": 36,
     "metadata": {},
     "output_type": "execute_result"
    }
   ],
   "source": [
    "protdata.head()"
   ]
  },
  {
   "cell_type": "code",
   "execution_count": 37,
   "id": "3ee98136-9557-4bb5-9616-28d183c1b07b",
   "metadata": {},
   "outputs": [],
   "source": [
    "# we will save them into a csv file\n",
    "\n",
    "protdata.to_csv('cleaned_data/seqdata.csv')"
   ]
  },
  {
   "cell_type": "markdown",
   "id": "5c152d3a-b9cd-4b19-8608-6c6397d3e05b",
   "metadata": {},
   "source": [
    "├── protein_retrieval         <- Obtained Protein sequencen FASTA files from Uniprot using TargetID"
   ]
  }
 ],
 "metadata": {
  "kernelspec": {
   "display_name": "Python 3",
   "language": "python",
   "name": "python3"
  },
  "language_info": {
   "codemirror_mode": {
    "name": "ipython",
    "version": 3
   },
   "file_extension": ".py",
   "mimetype": "text/x-python",
   "name": "python",
   "nbconvert_exporter": "python",
   "pygments_lexer": "ipython3",
   "version": "3.11.0"
  }
 },
 "nbformat": 4,
 "nbformat_minor": 5
}
